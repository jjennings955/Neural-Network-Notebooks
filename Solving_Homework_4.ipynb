{
  "nbformat": 4,
  "nbformat_minor": 0,
  "metadata": {
    "colab": {
      "name": "Solving Homework 4.ipynb",
      "version": "0.3.2",
      "provenance": [],
      "include_colab_link": true
    },
    "kernelspec": {
      "name": "python3",
      "display_name": "Python 3"
    }
  },
  "cells": [
    {
      "cell_type": "markdown",
      "metadata": {
        "id": "view-in-github",
        "colab_type": "text"
      },
      "source": [
        "<a href=\"https://colab.research.google.com/github/jjennings955/Neural-Network-Notebooks/blob/master/Solving_Homework_4.ipynb\" target=\"_parent\"><img src=\"https://colab.research.google.com/assets/colab-badge.svg\" alt=\"Open In Colab\"/></a>"
      ]
    },
    {
      "metadata": {
        "id": "mGt1FTQEr1JY",
        "colab_type": "code",
        "colab": {
          "base_uri": "https://localhost:8080/",
          "height": 217
        },
        "outputId": "fdcaa2ad-d544-4112-f22e-0f544027fe9b"
      },
      "cell_type": "code",
      "source": [
        "!wget http://ranger.uta.edu/~kamangar/CSE-5368-FA18/LinkedDocuments/data_set_2.csv"
      ],
      "execution_count": 2,
      "outputs": [
        {
          "output_type": "stream",
          "text": [
            "--2018-11-08 22:11:16--  http://ranger.uta.edu/~kamangar/CSE-5368-FA18/LinkedDocuments/data_set_2.csv\n",
            "Resolving ranger.uta.edu (ranger.uta.edu)... 129.107.116.37\n",
            "Connecting to ranger.uta.edu (ranger.uta.edu)|129.107.116.37|:80... connected.\n",
            "HTTP request sent, awaiting response... 200 OK\n",
            "Length: 60042 (59K) [text/plain]\n",
            "Saving to: ‘data_set_2.csv’\n",
            "\n",
            "data_set_2.csv      100%[===================>]  58.63K  --.-KB/s    in 0.1s    \n",
            "\n",
            "2018-11-08 22:11:16 (449 KB/s) - ‘data_set_2.csv’ saved [60042/60042]\n",
            "\n"
          ],
          "name": "stdout"
        }
      ]
    },
    {
      "metadata": {
        "id": "RAx1edvfrsWe",
        "colab_type": "code",
        "colab": {}
      },
      "cell_type": "code",
      "source": [
        "import numpy as np\n",
        "import tensorflow as tf\n",
        "\n",
        "from skimage.util import view_as_windows # the magic function"
      ],
      "execution_count": 0,
      "outputs": []
    },
    {
      "metadata": {
        "id": "5EOOdZdrrwb_",
        "colab_type": "code",
        "colab": {
          "base_uri": "https://localhost:8080/",
          "height": 108
        },
        "outputId": "75237b17-e192-4aac-ed4c-ba484a3d56ea"
      },
      "cell_type": "code",
      "source": [
        "data = np.loadtxt('data_set_2.csv', skiprows=1, delimiter=',')\n",
        "print(data[0:5])"
      ],
      "execution_count": 4,
      "outputs": [
        {
          "output_type": "stream",
          "text": [
            "[[ 0.1575583   0.65491658]\n",
            " [ 0.0118684  -0.31940727]\n",
            " [ 0.15401666 -0.17033134]\n",
            " [-0.00546586  0.33571463]\n",
            " [-0.21367741  0.00257864]]\n"
          ],
          "name": "stdout"
        }
      ]
    },
    {
      "metadata": {
        "id": "Z-CuiCyQz4KZ",
        "colab_type": "text"
      },
      "cell_type": "markdown",
      "source": [
        "# Create delays"
      ]
    },
    {
      "metadata": {
        "id": "JnrqLfVNsOTW",
        "colab_type": "code",
        "colab": {
          "base_uri": "https://localhost:8080/",
          "height": 799
        },
        "outputId": "3dc432f5-c489-4ef2-d01d-ddbf483b4fcc"
      },
      "cell_type": "code",
      "source": [
        "num_delays = 4\n",
        "stride = 1\n",
        "with_delays = view_as_windows(data, (num_delays+1, 2), step=stride)\n",
        "with_delays"
      ],
      "execution_count": 8,
      "outputs": [
        {
          "output_type": "execute_result",
          "data": {
            "text/plain": [
              "array([[[[ 0.1575583 ,  0.65491658],\n",
              "         [ 0.0118684 , -0.31940727],\n",
              "         [ 0.15401666, -0.17033134],\n",
              "         [-0.00546586,  0.33571463],\n",
              "         [-0.21367741,  0.00257864]]],\n",
              "\n",
              "\n",
              "       [[[ 0.0118684 , -0.31940727],\n",
              "         [ 0.15401666, -0.17033134],\n",
              "         [-0.00546586,  0.33571463],\n",
              "         [-0.21367741,  0.00257864],\n",
              "         [-0.28049086, -0.87810789]]],\n",
              "\n",
              "\n",
              "       [[[ 0.15401666, -0.17033134],\n",
              "         [-0.00546586,  0.33571463],\n",
              "         [-0.21367741,  0.00257864],\n",
              "         [-0.28049086, -0.87810789],\n",
              "         [ 0.03317981, -0.15643417]]],\n",
              "\n",
              "\n",
              "       ...,\n",
              "\n",
              "\n",
              "       [[[-0.23194136,  0.0209367 ],\n",
              "         [-0.75446989, -0.63972076],\n",
              "         [ 0.19800597,  0.22725713],\n",
              "         [ 0.03545306,  0.65304541],\n",
              "         [ 0.42968078,  0.3394738 ]]],\n",
              "\n",
              "\n",
              "       [[[-0.75446989, -0.63972076],\n",
              "         [ 0.19800597,  0.22725713],\n",
              "         [ 0.03545306,  0.65304541],\n",
              "         [ 0.42968078,  0.3394738 ],\n",
              "         [-0.41345867, -0.15502609]]],\n",
              "\n",
              "\n",
              "       [[[ 0.19800597,  0.22725713],\n",
              "         [ 0.03545306,  0.65304541],\n",
              "         [ 0.42968078,  0.3394738 ],\n",
              "         [-0.41345867, -0.15502609],\n",
              "         [ 0.01674375,  0.33713886]]]])"
            ]
          },
          "metadata": {
            "tags": []
          },
          "execution_count": 8
        }
      ]
    },
    {
      "metadata": {
        "id": "Pg8E_CKpz9ka",
        "colab_type": "text"
      },
      "cell_type": "markdown",
      "source": [
        "# Make into column vectors"
      ]
    },
    {
      "metadata": {
        "id": "4d5HOIxhsDEA",
        "colab_type": "code",
        "colab": {}
      },
      "cell_type": "code",
      "source": [
        "inputs = with_delays.squeeze().reshape(-1, 10).T\n",
        "inputs = inputs[:, :-1]"
      ],
      "execution_count": 0,
      "outputs": []
    },
    {
      "metadata": {
        "id": "zNnEMWWOxa_s",
        "colab_type": "code",
        "colab": {}
      },
      "cell_type": "code",
      "source": [
        "targets = data[num_delays+1:, 0]"
      ],
      "execution_count": 0,
      "outputs": []
    },
    {
      "metadata": {
        "id": "SDxtgUbh0cka",
        "colab_type": "code",
        "colab": {}
      },
      "cell_type": "code",
      "source": [
        "W = tf.Variable(np.zeros(((num_delays+1)*2, 1), dtype=np.float32))\n",
        "b = tf.Variable(0, dtype=np.float32)\n",
        "p = tf.placeholder(dtype=np.float32)\n",
        "t = tf.placeholder(dtype=np.float32)"
      ],
      "execution_count": 0,
      "outputs": []
    },
    {
      "metadata": {
        "id": "C97JVHaQ0rgb",
        "colab_type": "code",
        "colab": {}
      },
      "cell_type": "code",
      "source": [
        "output = tf.matmul(W, p) + b\n",
        "mse = tf.reduce_mean(tf.pow(output - t, 2))"
      ],
      "execution_count": 0,
      "outputs": []
    },
    {
      "metadata": {
        "id": "CZ84DPMm0zx6",
        "colab_type": "code",
        "colab": {}
      },
      "cell_type": "code",
      "source": [
        ""
      ],
      "execution_count": 0,
      "outputs": []
    }
  ]
}