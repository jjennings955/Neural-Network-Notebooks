{
  "nbformat": 4,
  "nbformat_minor": 0,
  "metadata": {
    "colab": {
      "name": "Backpropagation.ipynb",
      "version": "0.3.2",
      "provenance": [],
      "collapsed_sections": [],
      "include_colab_link": true
    },
    "kernelspec": {
      "name": "python3",
      "display_name": "Python 3"
    }
  },
  "cells": [
    {
      "cell_type": "markdown",
      "metadata": {
        "id": "view-in-github",
        "colab_type": "text"
      },
      "source": [
        "<a href=\"https://colab.research.google.com/github/jjennings955/Neural-Network-Notebooks/blob/master/Backpropagation_Object_Oriented.ipynb\" target=\"_parent\"><img src=\"https://colab.research.google.com/assets/colab-badge.svg\" alt=\"Open In Colab\"/></a>"
      ]
    },
    {
      "metadata": {
        "id": "jhW07Y333Wls",
        "colab_type": "text"
      },
      "cell_type": "markdown",
      "source": [
        "# https://pastebin.com/Yc7RBFpT"
      ]
    },
    {
      "metadata": {
        "id": "jpqUgZk-0zFe",
        "colab_type": "code",
        "colab": {}
      },
      "cell_type": "code",
      "source": [
        "import numpy as np\n",
        "\n",
        "class Layer(object):\n",
        "    def __init__(self, parent_layer, *args, **kwargs):\n",
        "        self.parent = parent_layer\n",
        "        self.name = kwargs.pop('name', 'unnamed')\n",
        "        if self.parent:\n",
        "            self.parent.child = self\n",
        "        self.child = None\n",
        "        \n",
        "      \n",
        "# Dense/fully connected layer/Affine layer\n",
        "class Dense(Layer):\n",
        "    def __init__(self, num_inputs, num_outputs, parent_layer=None, name=\"Dense\", *args, **kwargs):\n",
        "        super(Dense, self).__init__(parent_layer)\n",
        "        self.W = np.random.randn(num_outputs, num_inputs)/np.sqrt(num_outputs)\n",
        "        self.b = np.random.randn(num_outputs, 1)\n",
        "        \n",
        "        \n",
        "    def forward(self, x):\n",
        "        self.x = x\n",
        "        return np.matmul(self.W, x) + self.b\n",
        "\n",
        "    def backward(self, g):\n",
        "        self.dW = g.dot(self.x.T)\n",
        "        dX = self.W.T.dot(g)\n",
        "        self.db = g\n",
        "        return dX\n",
        "    def __repr__(self):\n",
        "        return \"Dense(num_inputs={}, num_outputs={}, name={})\".format(self.W.shape[0], self.W.shape[0], self.name)\n",
        "       \n",
        "\n",
        "class Sigmoid(Layer):\n",
        "    def __init__(self, parent_layer, *args, **kwargs):\n",
        "        super(Sigmoid, self).__init__(parent_layer, *args, **kwargs)\n",
        "        \n",
        "    def forward(self, x):\n",
        "        self.out = 1/(1 + np.exp(-x))\n",
        "        return self.out\n",
        "\n",
        "    def backward(self, g):\n",
        "        sigmoid_gradient = self.out*(1 - self.out)\n",
        "        return sigmoid_gradient*g\n",
        "    def __repr__(self):\n",
        "        return \"Sigmoid(name={})\".format(self.name)\n",
        "      \n",
        "class Softmax(Layer):\n",
        "    def __init__(self, parent_layer, *args, **kwargs):\n",
        "        super(Softmax, self).__init__(parent_layer, *args, **kwargs)\n",
        "        \n",
        "    def forward(self, x):\n",
        "        e_x = np.exp(x)\n",
        "        denominator = np.sum(e_x)\n",
        "        self.output = e_x/denominator\n",
        "        return self.output\n",
        "\n",
        "    def backward(self, g):\n",
        "        jacobian = np.diagflat(self.output) - np.matmul(self.output, self.output.T)\n",
        "        return np.matmul(jacobian.T, g)\n",
        "      \n",
        "    def __repr__(self):\n",
        "        return \"Softmax(name={})\".format(self.name)\n",
        "      \n",
        "class CrossEntropy(Layer):\n",
        "    def __init__(self, parent_layer, labels, *args, **kwargs):\n",
        "        super(CrossEntropy, self).__init__(parent_layer)\n",
        "        self.labels = labels # We really should have figured out a better way to implement this.\n",
        "        \n",
        "    def forward(self, y_hat):\n",
        "        self.y_hat = y_hat\n",
        "        self.y = self.labels\n",
        "        xent = -np.sum(self.y * np.log(self.y_hat + 1e-8))\n",
        "        return xent\n",
        "        \n",
        "    def backward(self, g):\n",
        "        self.gradient = self.y / self.y_hat\n",
        "        return self.gradient\n",
        "      \n",
        "    def __repr__(self):\n",
        "        return \"CrossEntropy(name={})\".format(self.name) \n",
        "\n",
        "class Network(Layer):\n",
        "    def __init__(self, parent_layer):\n",
        "        super(Network, self).__init__(parent_layer)\n",
        "\n",
        "    def _root(self):\n",
        "        obj = self.parent\n",
        "        while obj.parent != None:\n",
        "            obj = obj.parent\n",
        "            self.root = obj\n",
        "        return self.root\n",
        "\n",
        "    def forward(self, input):\n",
        "        obj = self._root()\n",
        "        current_input = input\n",
        "        while obj.child:\n",
        "            out = obj.forward(current_input)\n",
        "            current_input = out\n",
        "            print('call', obj, '.forward(X) with output from previous layer,\\noutput={}'.format(out))\n",
        "            print('-----------------------------')\n",
        "            obj = obj.child\n",
        "\n",
        "    def backward(self):\n",
        "        g = 1\n",
        "        obj = self.parent\n",
        "    \n",
        "        while obj:\n",
        "            g = obj.backward(g)\n",
        "            print('call', obj, '.backward(g) with g flowing backwards from child layer\\ng={}'.format(g))\n",
        "            print('-----------------------------')\n",
        "            obj = obj.parent\n",
        "    \n",
        "    def __repr__(self):\n",
        "        output = []\n",
        "        obj = self._root()\n",
        "        while obj.child:\n",
        "          output.append(repr(obj))\n",
        "          obj = obj.child\n",
        "        return ' -> '.join(output)\n",
        "      \n",
        "      \n",
        "      \n",
        "      \n",
        "\n",
        "\n",
        "# z_1 = Sigmoid(net_1)\n",
        "# net_2 = Dense(3,3, z_1)\n",
        "# z_2 = Softmax(net_2)\n",
        "# loss = CrossEntropy(z_2)\n",
        "\n"
      ],
      "execution_count": 0,
      "outputs": []
    },
    {
      "metadata": {
        "id": "_4a_0QMkRrHk",
        "colab_type": "text"
      },
      "cell_type": "markdown",
      "source": [
        "# Testing Dense layer"
      ]
    },
    {
      "metadata": {
        "id": "0lUop46C5SqL",
        "colab_type": "code",
        "outputId": "a4d9b75a-6876-4248-e3a7-c4d6833e74f4",
        "colab": {
          "base_uri": "https://localhost:8080/",
          "height": 212
        }
      },
      "cell_type": "code",
      "source": [
        "np.random.seed(1234)\n",
        "net_1 = Dense(num_inputs=2, num_outputs=3)\n",
        "print(net_1.W)\n",
        "print(net_1.b)\n",
        "\n",
        "# 0.2, -0.3\n",
        "\n",
        "x = np.float32([[0.2, -0.3]]).T\n",
        "g = np.float32([[1, 1, 1]]).T\n",
        "print(net_1.forward(x))\n",
        "print(net_1.backward(g))"
      ],
      "execution_count": 107,
      "outputs": [
        {
          "output_type": "stream",
          "text": [
            "[[ 0.27218322 -0.68761014]\n",
            " [ 0.82717375 -0.18050966]\n",
            " [-0.4160321   0.51220376]]\n",
            "[[ 0.85958841]\n",
            " [-0.6365235 ]\n",
            " [ 0.01569637]]\n",
            "[[ 1.12030811]\n",
            " [-0.41693585]\n",
            " [-0.22117118]]\n",
            "[[ 0.68332487]\n",
            " [-0.35591603]]\n"
          ],
          "name": "stdout"
        }
      ]
    },
    {
      "metadata": {
        "colab_type": "code",
        "id": "KRXzn-HAWW22",
        "colab": {}
      },
      "cell_type": "code",
      "source": [
        ""
      ],
      "execution_count": 0,
      "outputs": []
    },
    {
      "metadata": {
        "id": "b-BYo2QCRujx",
        "colab_type": "text"
      },
      "cell_type": "markdown",
      "source": [
        "# Testing Sigmoid layer"
      ]
    },
    {
      "metadata": {
        "id": "tKFb2v825TLT",
        "colab_type": "code",
        "outputId": "aa8ddf21-d21d-4d9e-a780-688671826b04",
        "colab": {
          "base_uri": "https://localhost:8080/",
          "height": 123
        }
      },
      "cell_type": "code",
      "source": [
        "x = np.float32([[0.0, -5.0, 5.0]]).T\n",
        "s = Sigmoid(parent_layer=None)\n",
        "g = np.float32([[1, 1, 1]]).T\n",
        "print(s.forward(x))\n",
        "print(s.backward(g))\n"
      ],
      "execution_count": 108,
      "outputs": [
        {
          "output_type": "stream",
          "text": [
            "[[0.5       ]\n",
            " [0.00669285]\n",
            " [0.9933072 ]]\n",
            "[[0.25      ]\n",
            " [0.00664806]\n",
            " [0.00664803]]\n"
          ],
          "name": "stdout"
        }
      ]
    },
    {
      "metadata": {
        "id": "_bF8G5jdRwwH",
        "colab_type": "text"
      },
      "cell_type": "markdown",
      "source": [
        "# Testing Softmax Layer"
      ]
    },
    {
      "metadata": {
        "id": "r69e1kKN85UN",
        "colab_type": "code",
        "outputId": "9ab01028-fc23-4e91-f967-ebba8f9062db",
        "colab": {
          "base_uri": "https://localhost:8080/",
          "height": 123
        }
      },
      "cell_type": "code",
      "source": [
        "x = np.float32([[1, 1, 1]]).T\n",
        "g = np.float32([[-1, 1, 0]]).T\n",
        "soft = Softmax(None)\n",
        "print(soft.forward(x))\n",
        "print(soft.backward(g))"
      ],
      "execution_count": 109,
      "outputs": [
        {
          "output_type": "stream",
          "text": [
            "[[0.33333334]\n",
            " [0.33333334]\n",
            " [0.33333334]]\n",
            "[[-0.33333334]\n",
            " [ 0.33333334]\n",
            " [ 0.        ]]\n"
          ],
          "name": "stdout"
        }
      ]
    },
    {
      "metadata": {
        "id": "xbdifv8eRzZk",
        "colab_type": "text"
      },
      "cell_type": "markdown",
      "source": [
        "# Testing Cross Entropy layer "
      ]
    },
    {
      "metadata": {
        "id": "Yt69GoS5_TEV",
        "colab_type": "code",
        "outputId": "a4f39127-e45f-4e06-8e75-470360b914af",
        "colab": {
          "base_uri": "https://localhost:8080/",
          "height": 87
        }
      },
      "cell_type": "code",
      "source": [
        "y = np.float32([[1, 0, 0]]).T\n",
        "x_ent = CrossEntropy(None, labels=y)\n",
        "y_hat = np.float32([[0.25, 0.4, 0.35]]).T\n",
        "print(x_ent.forward(y_hat))\n",
        "print(x_ent.backward(1))\n"
      ],
      "execution_count": 110,
      "outputs": [
        {
          "output_type": "stream",
          "text": [
            "1.3862944\n",
            "[[4.]\n",
            " [0.]\n",
            " [0.]]\n"
          ],
          "name": "stdout"
        }
      ]
    },
    {
      "metadata": {
        "id": "bP6I9zrVR4Oa",
        "colab_type": "text"
      },
      "cell_type": "markdown",
      "source": [
        "# Creating a network and connecting it all-together using the Network class"
      ]
    },
    {
      "metadata": {
        "id": "QNE8LpnPEvYF",
        "colab_type": "code",
        "colab": {
          "base_uri": "https://localhost:8080/",
          "height": 34
        },
        "outputId": "db2e1b24-fecf-4a1f-865a-463ddff987a3"
      },
      "cell_type": "code",
      "source": [
        "y = np.float32([[1, 0, 0]]).T\n",
        "\n",
        "net_1 = Dense(2, 10, name='dense_1')\n",
        "z_1 = Sigmoid(net_1, name='sigmoid_1')\n",
        "net_2 = Dense(10,3, z_1, name='dense_2')\n",
        "z_2 = Softmax(net_2, name='softmax_outut')\n",
        "loss = CrossEntropy(z_2, labels=y, name='xent')\n",
        "network = Network(loss)\n",
        "print(network)"
      ],
      "execution_count": 111,
      "outputs": [
        {
          "output_type": "stream",
          "text": [
            "Dense(num_inputs=10, num_outputs=10, name=unnamed) -> Sigmoid(name=sigmoid_1) -> Dense(num_inputs=3, num_outputs=3, name=unnamed) -> Softmax(name=softmax_outut) -> CrossEntropy(name=unnamed)\n"
          ],
          "name": "stdout"
        }
      ]
    },
    {
      "metadata": {
        "id": "UcI7w9CoSA9f",
        "colab_type": "text"
      },
      "cell_type": "markdown",
      "source": [
        "# Forward Propagation"
      ]
    },
    {
      "metadata": {
        "id": "__GmrWJNFy5p",
        "colab_type": "code",
        "outputId": "ad60ee9a-eb7a-4625-96af-413d61f87d37",
        "colab": {
          "base_uri": "https://localhost:8080/",
          "height": 674
        }
      },
      "cell_type": "code",
      "source": [
        "x = np.float32([[0.2, -0.3]]).T\n",
        "network.forward(x)"
      ],
      "execution_count": 112,
      "outputs": [
        {
          "output_type": "stream",
          "text": [
            "call Dense(num_inputs=10, num_outputs=10, name=unnamed) .forward(X) with output from previous layer,\n",
            "output=[[ 0.80802736]\n",
            " [-0.42554432]\n",
            " [ 0.24129564]\n",
            " [ 1.00924786]\n",
            " [ 0.93888596]\n",
            " [ 0.78510711]\n",
            " [-0.18192828]\n",
            " [ 0.03466466]\n",
            " [-0.41656497]\n",
            " [ 0.74412702]]\n",
            "-----------------------------\n",
            "call Sigmoid(name=sigmoid_1) .forward(X) with output from previous layer,\n",
            "output=[[0.69168899]\n",
            " [0.39519081]\n",
            " [0.56003291]\n",
            " [0.73287293]\n",
            " [0.71887457]\n",
            " [0.68677977]\n",
            " [0.45464296]\n",
            " [0.5086653 ]\n",
            " [0.39733901]\n",
            " [0.67789766]]\n",
            "-----------------------------\n",
            "call Dense(num_inputs=3, num_outputs=3, name=unnamed) .forward(X) with output from previous layer,\n",
            "output=[[ 0.7703048 ]\n",
            " [-1.54826007]\n",
            " [ 1.07502848]]\n",
            "-----------------------------\n",
            "call Softmax(name=softmax_outut) .forward(X) with output from previous layer,\n",
            "output=[[0.40738758]\n",
            " [0.04009294]\n",
            " [0.55251948]]\n",
            "-----------------------------\n",
            "call CrossEntropy(name=unnamed) .forward(X) with output from previous layer,\n",
            "output=0.8979902309932645\n",
            "-----------------------------\n"
          ],
          "name": "stdout"
        }
      ]
    },
    {
      "metadata": {
        "id": "MIqAPMdOSDaU",
        "colab_type": "text"
      },
      "cell_type": "markdown",
      "source": [
        "# Compute the backward pass for a single input"
      ]
    },
    {
      "metadata": {
        "id": "MtvNgt26F-q6",
        "colab_type": "code",
        "outputId": "66f60ea2-a609-4800-ccf9-1e76eba20e98",
        "colab": {
          "base_uri": "https://localhost:8080/",
          "height": 692
        }
      },
      "cell_type": "code",
      "source": [
        "network.backward()"
      ],
      "execution_count": 113,
      "outputs": [
        {
          "output_type": "stream",
          "text": [
            "call CrossEntropy(name=unnamed) .backward(g) with g flowing backwards from child layer\n",
            "g=[[2.4546649]\n",
            " [0.       ]\n",
            " [0.       ]]\n",
            "-----------------------------\n",
            "call Softmax(name=softmax_outut) .backward(g) with g flowing backwards from child layer\n",
            "g=[[ 0.59261242]\n",
            " [-0.04009294]\n",
            " [-0.55251948]]\n",
            "-----------------------------\n",
            "call Dense(num_inputs=3, num_outputs=3, name=unnamed) .backward(g) with g flowing backwards from child layer\n",
            "g=[[ 0.32001113]\n",
            " [ 0.31738264]\n",
            " [-0.13789965]\n",
            " [-0.05342303]\n",
            " [-0.64109653]\n",
            " [-0.23230823]\n",
            " [ 0.46212811]\n",
            " [-0.70275542]\n",
            " [ 0.37157586]\n",
            " [ 0.17777533]]\n",
            "-----------------------------\n",
            "call Sigmoid(name=sigmoid_1) .backward(g) with g flowing backwards from child layer\n",
            "g=[[ 0.06824408]\n",
            " [ 0.07585922]\n",
            " [-0.03397793]\n",
            " [-0.01045864]\n",
            " [-0.12956171]\n",
            " [-0.04997259]\n",
            " [ 0.11458131]\n",
            " [-0.17563609]\n",
            " [ 0.08897782]\n",
            " [ 0.03881767]]\n",
            "-----------------------------\n",
            "call Dense(num_inputs=10, num_outputs=10, name=unnamed) .backward(g) with g flowing backwards from child layer\n",
            "g=[[-0.08030743]\n",
            " [-0.0504331 ]]\n",
            "-----------------------------\n"
          ],
          "name": "stdout"
        }
      ]
    },
    {
      "metadata": {
        "id": "Mp5RWco8SLpA",
        "colab_type": "text"
      },
      "cell_type": "markdown",
      "source": [
        "# Inspecting the gradient of our loss wrt our weights and biases"
      ]
    },
    {
      "metadata": {
        "id": "qqK6vnJzJNUq",
        "colab_type": "code",
        "outputId": "54abc0ce-823d-466c-cabd-b0da13937365",
        "colab": {
          "base_uri": "https://localhost:8080/",
          "height": 194
        }
      },
      "cell_type": "code",
      "source": [
        "net_1.dW"
      ],
      "execution_count": 7,
      "outputs": [
        {
          "output_type": "execute_result",
          "data": {
            "text/plain": [
              "array([[-0.00260669,  0.00391003],\n",
              "       [ 0.02271754, -0.03407631],\n",
              "       [ 0.0074605 , -0.01119076],\n",
              "       [-0.05267   ,  0.079005  ],\n",
              "       [ 0.05481178, -0.08221768],\n",
              "       [-0.00380882,  0.00571323],\n",
              "       [-0.02256565,  0.03384847],\n",
              "       [-0.01880307,  0.0282046 ],\n",
              "       [-0.03405327,  0.0510799 ],\n",
              "       [-0.05774484,  0.08661726]])"
            ]
          },
          "metadata": {
            "tags": []
          },
          "execution_count": 7
        }
      ]
    },
    {
      "metadata": {
        "id": "ErmU3JShJ0KH",
        "colab_type": "code",
        "outputId": "503abaf5-7d93-4397-8e23-606c64646115",
        "colab": {
          "base_uri": "https://localhost:8080/",
          "height": 194
        }
      },
      "cell_type": "code",
      "source": [
        "net_1.db"
      ],
      "execution_count": 8,
      "outputs": [
        {
          "output_type": "execute_result",
          "data": {
            "text/plain": [
              "array([[-0.01303345],\n",
              "       [ 0.11358768],\n",
              "       [ 0.03730252],\n",
              "       [-0.26335   ],\n",
              "       [ 0.27405891],\n",
              "       [-0.01904409],\n",
              "       [-0.11282824],\n",
              "       [-0.09401534],\n",
              "       [-0.17026633],\n",
              "       [-0.28872418]])"
            ]
          },
          "metadata": {
            "tags": []
          },
          "execution_count": 8
        }
      ]
    },
    {
      "metadata": {
        "id": "MwqC2CRTSZpO",
        "colab_type": "code",
        "colab": {
          "base_uri": "https://localhost:8080/",
          "height": 176
        },
        "outputId": "0e07de13-3c4b-42bf-ff7c-3f12ed80b3d6"
      },
      "cell_type": "code",
      "source": [
        "print(net_2.W)\n",
        "print(net_2.b)"
      ],
      "execution_count": 12,
      "outputs": [
        {
          "output_type": "stream",
          "text": [
            "[[-0.68035984  0.82786177 -0.07628352 -0.96442492  0.76733849  0.07731785\n",
            "  -0.04997971  0.39442053 -0.57251963 -0.90886088]\n",
            " [-0.58768083  0.29608092 -0.32040171  0.59669215 -0.33152285  0.17731508\n",
            "   0.45339487  0.85775959  0.28980691  0.40411043]\n",
            " [-0.69919073  0.02501047 -0.01541989 -0.09658222 -0.96685814  0.02008536\n",
            "   0.31291023  0.1272609  -1.21771491 -0.17660551]]\n",
            "[[-0.49618386]\n",
            " [ 1.43266477]\n",
            " [ 0.30094553]]\n"
          ],
          "name": "stdout"
        }
      ]
    }
  ]
}