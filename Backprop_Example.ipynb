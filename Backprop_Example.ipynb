{
  "nbformat": 4,
  "nbformat_minor": 0,
  "metadata": {
    "colab": {
      "name": "Sympy_Empty.ipynb",
      "version": "0.3.2",
      "provenance": [],
      "include_colab_link": true
    },
    "kernelspec": {
      "name": "python3",
      "display_name": "Python 3"
    }
  },
  "cells": [
    {
      "cell_type": "markdown",
      "metadata": {
        "id": "view-in-github",
        "colab_type": "text"
      },
      "source": [
        "<a href=\"https://colab.research.google.com/github/jjennings955/Neural-Network-Notebooks/blob/master/Backprop_Example.ipynb\" target=\"_parent\"><img src=\"https://colab.research.google.com/assets/colab-badge.svg\" alt=\"Open In Colab\"/></a>"
      ]
    },
    {
      "metadata": {
        "id": "IIJ4aWzjNcMn",
        "colab_type": "code",
        "colab": {}
      },
      "cell_type": "code",
      "source": [
        "from sympy import *\n",
        "\n",
        "def custom_latex_printer(exp,**options):\n",
        "    from google.colab.output._publish import javascript\n",
        "    url = \"https://cdnjs.cloudflare.com/ajax/libs/mathjax/2.7.3/latest.js?config=default\"\n",
        "    javascript(url=url)\n",
        "    return printing.latex(exp,**options)\n",
        "  \n",
        "#sp.init_session(use_latex='mathjax', latex_printer=custom_latex_printer)\n",
        "init_printing(use_latex='mathjax', latex_printer=custom_latex_printer)"
      ],
      "execution_count": 0,
      "outputs": []
    },
    {
      "metadata": {
        "id": "Mjyg3macBewf",
        "colab_type": "text"
      },
      "cell_type": "markdown",
      "source": [
        "# Deriving Softmax Jacobian using sympy"
      ]
    },
    {
      "metadata": {
        "id": "tRwTVJW-Ndzz",
        "colab_type": "code",
        "colab": {}
      },
      "cell_type": "code",
      "source": [
        "x_1, x_2, x_3 = symbols('x_1, x_2, x_3') # declare symbols\n",
        "x_m = Matrix([[x_1, x_2, x_3]]).T"
      ],
      "execution_count": 0,
      "outputs": []
    },
    {
      "metadata": {
        "id": "8WyyoAPQjbb0",
        "colab_type": "code",
        "outputId": "b5ba9366-f956-4bbe-d73c-acf59902538c",
        "colab": {
          "base_uri": "https://localhost:8080/",
          "height": 110
        }
      },
      "cell_type": "code",
      "source": [
        "exp_x = x_m .applyfunc(exp) # exponentiate element-wise\n",
        "exp_x"
      ],
      "execution_count": 3,
      "outputs": [
        {
          "output_type": "display_data",
          "data": {
            "text/html": [
              "<script src='https://cdnjs.cloudflare.com/ajax/libs/mathjax/2.7.3/latest.js?config=default'></script>"
            ],
            "text/plain": [
              "<IPython.core.display.HTML object>"
            ]
          },
          "metadata": {
            "tags": []
          }
        },
        {
          "output_type": "execute_result",
          "data": {
            "text/latex": "$$\\left[\\begin{matrix}e^{x_{1}}\\\\e^{x_{2}}\\\\e^{x_{3}}\\end{matrix}\\right]$$",
            "text/plain": [
              "⎡ x₁⎤\n",
              "⎢ℯ  ⎥\n",
              "⎢   ⎥\n",
              "⎢ x₂⎥\n",
              "⎢ℯ  ⎥\n",
              "⎢   ⎥\n",
              "⎢ x₃⎥\n",
              "⎣ℯ  ⎦"
            ]
          },
          "metadata": {
            "tags": []
          },
          "execution_count": 3
        }
      ]
    },
    {
      "metadata": {
        "id": "z_mJdHb3jhID",
        "colab_type": "code",
        "outputId": "481c2d83-90d8-411e-a14b-5b6f1f06093f",
        "colab": {
          "base_uri": "https://localhost:8080/",
          "height": 62
        }
      },
      "cell_type": "code",
      "source": [
        "denom = sum(exp_x) # compute the denominator (sum of exponentiation)\n",
        "denom"
      ],
      "execution_count": 4,
      "outputs": [
        {
          "output_type": "display_data",
          "data": {
            "text/html": [
              "<script src='https://cdnjs.cloudflare.com/ajax/libs/mathjax/2.7.3/latest.js?config=default'></script>"
            ],
            "text/plain": [
              "<IPython.core.display.HTML object>"
            ]
          },
          "metadata": {
            "tags": []
          }
        },
        {
          "output_type": "execute_result",
          "data": {
            "text/latex": "$$e^{x_{1}} + e^{x_{2}} + e^{x_{3}}$$",
            "text/plain": [
              " x₁    x₂    x₃\n",
              "ℯ   + ℯ   + ℯ  "
            ]
          },
          "metadata": {
            "tags": []
          },
          "execution_count": 4
        }
      ]
    },
    {
      "metadata": {
        "id": "trKj1G6jjuXT",
        "colab_type": "code",
        "outputId": "c7c614dc-c3d5-4aeb-debb-fc617a3dca64",
        "colab": {
          "base_uri": "https://localhost:8080/",
          "height": 129
        }
      },
      "cell_type": "code",
      "source": [
        "softmax = exp_x / denom # softmax is exp(x)/sum(exp(x))\n",
        "softmax"
      ],
      "execution_count": 5,
      "outputs": [
        {
          "output_type": "display_data",
          "data": {
            "text/html": [
              "<script src='https://cdnjs.cloudflare.com/ajax/libs/mathjax/2.7.3/latest.js?config=default'></script>"
            ],
            "text/plain": [
              "<IPython.core.display.HTML object>"
            ]
          },
          "metadata": {
            "tags": []
          }
        },
        {
          "output_type": "execute_result",
          "data": {
            "text/latex": "$$\\left[\\begin{matrix}\\frac{e^{x_{1}}}{e^{x_{1}} + e^{x_{2}} + e^{x_{3}}}\\\\\\frac{e^{x_{2}}}{e^{x_{1}} + e^{x_{2}} + e^{x_{3}}}\\\\\\frac{e^{x_{3}}}{e^{x_{1}} + e^{x_{2}} + e^{x_{3}}}\\end{matrix}\\right]$$",
            "text/plain": [
              "⎡       x₁      ⎤\n",
              "⎢      ℯ        ⎥\n",
              "⎢───────────────⎥\n",
              "⎢ x₁    x₂    x₃⎥\n",
              "⎢ℯ   + ℯ   + ℯ  ⎥\n",
              "⎢               ⎥\n",
              "⎢       x₂      ⎥\n",
              "⎢      ℯ        ⎥\n",
              "⎢───────────────⎥\n",
              "⎢ x₁    x₂    x₃⎥\n",
              "⎢ℯ   + ℯ   + ℯ  ⎥\n",
              "⎢               ⎥\n",
              "⎢       x₃      ⎥\n",
              "⎢      ℯ        ⎥\n",
              "⎢───────────────⎥\n",
              "⎢ x₁    x₂    x₃⎥\n",
              "⎣ℯ   + ℯ   + ℯ  ⎦"
            ]
          },
          "metadata": {
            "tags": []
          },
          "execution_count": 5
        }
      ]
    },
    {
      "metadata": {
        "id": "LE_ZKXTHB2rp",
        "colab_type": "text"
      },
      "cell_type": "markdown",
      "source": [
        "# Softmax Jacobian\n"
      ]
    },
    {
      "metadata": {
        "id": "ORngFmQhjyzU",
        "colab_type": "code",
        "outputId": "56998522-abf0-40f9-8d84-d694963e8664",
        "colab": {
          "base_uri": "https://localhost:8080/",
          "height": 150
        }
      },
      "cell_type": "code",
      "source": [
        "softmax.jacobian(x_m)"
      ],
      "execution_count": 6,
      "outputs": [
        {
          "output_type": "display_data",
          "data": {
            "text/html": [
              "<script src='https://cdnjs.cloudflare.com/ajax/libs/mathjax/2.7.3/latest.js?config=default'></script>"
            ],
            "text/plain": [
              "<IPython.core.display.HTML object>"
            ]
          },
          "metadata": {
            "tags": []
          }
        },
        {
          "output_type": "execute_result",
          "data": {
            "text/latex": "$$\\left[\\begin{matrix}\\frac{e^{x_{1}}}{e^{x_{1}} + e^{x_{2}} + e^{x_{3}}} - \\frac{e^{2 x_{1}}}{\\left(e^{x_{1}} + e^{x_{2}} + e^{x_{3}}\\right)^{2}} & - \\frac{e^{x_{1}} e^{x_{2}}}{\\left(e^{x_{1}} + e^{x_{2}} + e^{x_{3}}\\right)^{2}} & - \\frac{e^{x_{1}} e^{x_{3}}}{\\left(e^{x_{1}} + e^{x_{2}} + e^{x_{3}}\\right)^{2}}\\\\- \\frac{e^{x_{1}} e^{x_{2}}}{\\left(e^{x_{1}} + e^{x_{2}} + e^{x_{3}}\\right)^{2}} & \\frac{e^{x_{2}}}{e^{x_{1}} + e^{x_{2}} + e^{x_{3}}} - \\frac{e^{2 x_{2}}}{\\left(e^{x_{1}} + e^{x_{2}} + e^{x_{3}}\\right)^{2}} & - \\frac{e^{x_{2}} e^{x_{3}}}{\\left(e^{x_{1}} + e^{x_{2}} + e^{x_{3}}\\right)^{2}}\\\\- \\frac{e^{x_{1}} e^{x_{3}}}{\\left(e^{x_{1}} + e^{x_{2}} + e^{x_{3}}\\right)^{2}} & - \\frac{e^{x_{2}} e^{x_{3}}}{\\left(e^{x_{1}} + e^{x_{2}} + e^{x_{3}}\\right)^{2}} & \\frac{e^{x_{3}}}{e^{x_{1}} + e^{x_{2}} + e^{x_{3}}} - \\frac{e^{2 x_{3}}}{\\left(e^{x_{1}} + e^{x_{2}} + e^{x_{3}}\\right)^{2}}\\end{matrix}\\right]$$",
            "text/plain": [
              "⎡       x₁                2⋅x₁                        x₁  x₂                  \n",
              "⎢      ℯ                 ℯ                          -ℯ  ⋅ℯ                    \n",
              "⎢─────────────── - ──────────────────           ──────────────────            \n",
              "⎢ x₁    x₂    x₃                    2                            2            \n",
              "⎢ℯ   + ℯ   + ℯ     ⎛ x₁    x₂    x₃⎞            ⎛ x₁    x₂    x₃⎞             \n",
              "⎢                  ⎝ℯ   + ℯ   + ℯ  ⎠            ⎝ℯ   + ℯ   + ℯ  ⎠             \n",
              "⎢                                                                             \n",
              "⎢               x₁  x₂                        x₂                2⋅x₂          \n",
              "⎢             -ℯ  ⋅ℯ                         ℯ                 ℯ              \n",
              "⎢         ──────────────────           ─────────────── - ──────────────────   \n",
              "⎢                          2            x₁    x₂    x₃                    2   \n",
              "⎢         ⎛ x₁    x₂    x₃⎞            ℯ   + ℯ   + ℯ     ⎛ x₁    x₂    x₃⎞    \n",
              "⎢         ⎝ℯ   + ℯ   + ℯ  ⎠                              ⎝ℯ   + ℯ   + ℯ  ⎠    \n",
              "⎢                                                                             \n",
              "⎢               x₁  x₃                                x₂  x₃                  \n",
              "⎢             -ℯ  ⋅ℯ                                -ℯ  ⋅ℯ                    \n",
              "⎢         ──────────────────                    ──────────────────           ─\n",
              "⎢                          2                                     2            \n",
              "⎢         ⎛ x₁    x₂    x₃⎞                     ⎛ x₁    x₂    x₃⎞            ℯ\n",
              "⎣         ⎝ℯ   + ℯ   + ℯ  ⎠                     ⎝ℯ   + ℯ   + ℯ  ⎠             \n",
              "\n",
              "              x₁  x₃               ⎤\n",
              "            -ℯ  ⋅ℯ                 ⎥\n",
              "        ──────────────────         ⎥\n",
              "                         2         ⎥\n",
              "        ⎛ x₁    x₂    x₃⎞          ⎥\n",
              "        ⎝ℯ   + ℯ   + ℯ  ⎠          ⎥\n",
              "                                   ⎥\n",
              "              x₂  x₃               ⎥\n",
              "            -ℯ  ⋅ℯ                 ⎥\n",
              "        ──────────────────         ⎥\n",
              "                         2         ⎥\n",
              "        ⎛ x₁    x₂    x₃⎞          ⎥\n",
              "        ⎝ℯ   + ℯ   + ℯ  ⎠          ⎥\n",
              "                                   ⎥\n",
              "      x₃                2⋅x₃       ⎥\n",
              "     ℯ                 ℯ           ⎥\n",
              "────────────── - ──────────────────⎥\n",
              "x₁    x₂    x₃                    2⎥\n",
              "   + ℯ   + ℯ     ⎛ x₁    x₂    x₃⎞ ⎥\n",
              "                 ⎝ℯ   + ℯ   + ℯ  ⎠ ⎦"
            ]
          },
          "metadata": {
            "tags": []
          },
          "execution_count": 6
        }
      ]
    },
    {
      "metadata": {
        "id": "JxoQ9_XTB6oC",
        "colab_type": "text"
      },
      "cell_type": "markdown",
      "source": [
        "# How to craft jacobian as function of the softmax outputs"
      ]
    },
    {
      "metadata": {
        "id": "fVFjlslqj6_U",
        "colab_type": "code",
        "outputId": "5e4b6bbd-fe54-431b-e394-90ba6b4fc249",
        "colab": {
          "base_uri": "https://localhost:8080/",
          "height": 150
        }
      },
      "cell_type": "code",
      "source": [
        "diag(*softmax) - softmax*softmax.T"
      ],
      "execution_count": 7,
      "outputs": [
        {
          "output_type": "display_data",
          "data": {
            "text/html": [
              "<script src='https://cdnjs.cloudflare.com/ajax/libs/mathjax/2.7.3/latest.js?config=default'></script>"
            ],
            "text/plain": [
              "<IPython.core.display.HTML object>"
            ]
          },
          "metadata": {
            "tags": []
          }
        },
        {
          "output_type": "execute_result",
          "data": {
            "text/latex": "$$\\left[\\begin{matrix}\\frac{e^{x_{1}}}{e^{x_{1}} + e^{x_{2}} + e^{x_{3}}} - \\frac{e^{2 x_{1}}}{\\left(e^{x_{1}} + e^{x_{2}} + e^{x_{3}}\\right)^{2}} & - \\frac{e^{x_{1}} e^{x_{2}}}{\\left(e^{x_{1}} + e^{x_{2}} + e^{x_{3}}\\right)^{2}} & - \\frac{e^{x_{1}} e^{x_{3}}}{\\left(e^{x_{1}} + e^{x_{2}} + e^{x_{3}}\\right)^{2}}\\\\- \\frac{e^{x_{1}} e^{x_{2}}}{\\left(e^{x_{1}} + e^{x_{2}} + e^{x_{3}}\\right)^{2}} & \\frac{e^{x_{2}}}{e^{x_{1}} + e^{x_{2}} + e^{x_{3}}} - \\frac{e^{2 x_{2}}}{\\left(e^{x_{1}} + e^{x_{2}} + e^{x_{3}}\\right)^{2}} & - \\frac{e^{x_{2}} e^{x_{3}}}{\\left(e^{x_{1}} + e^{x_{2}} + e^{x_{3}}\\right)^{2}}\\\\- \\frac{e^{x_{1}} e^{x_{3}}}{\\left(e^{x_{1}} + e^{x_{2}} + e^{x_{3}}\\right)^{2}} & - \\frac{e^{x_{2}} e^{x_{3}}}{\\left(e^{x_{1}} + e^{x_{2}} + e^{x_{3}}\\right)^{2}} & \\frac{e^{x_{3}}}{e^{x_{1}} + e^{x_{2}} + e^{x_{3}}} - \\frac{e^{2 x_{3}}}{\\left(e^{x_{1}} + e^{x_{2}} + e^{x_{3}}\\right)^{2}}\\end{matrix}\\right]$$",
            "text/plain": [
              "⎡       x₁                2⋅x₁                        x₁  x₂                  \n",
              "⎢      ℯ                 ℯ                          -ℯ  ⋅ℯ                    \n",
              "⎢─────────────── - ──────────────────           ──────────────────            \n",
              "⎢ x₁    x₂    x₃                    2                            2            \n",
              "⎢ℯ   + ℯ   + ℯ     ⎛ x₁    x₂    x₃⎞            ⎛ x₁    x₂    x₃⎞             \n",
              "⎢                  ⎝ℯ   + ℯ   + ℯ  ⎠            ⎝ℯ   + ℯ   + ℯ  ⎠             \n",
              "⎢                                                                             \n",
              "⎢               x₁  x₂                        x₂                2⋅x₂          \n",
              "⎢             -ℯ  ⋅ℯ                         ℯ                 ℯ              \n",
              "⎢         ──────────────────           ─────────────── - ──────────────────   \n",
              "⎢                          2            x₁    x₂    x₃                    2   \n",
              "⎢         ⎛ x₁    x₂    x₃⎞            ℯ   + ℯ   + ℯ     ⎛ x₁    x₂    x₃⎞    \n",
              "⎢         ⎝ℯ   + ℯ   + ℯ  ⎠                              ⎝ℯ   + ℯ   + ℯ  ⎠    \n",
              "⎢                                                                             \n",
              "⎢               x₁  x₃                                x₂  x₃                  \n",
              "⎢             -ℯ  ⋅ℯ                                -ℯ  ⋅ℯ                    \n",
              "⎢         ──────────────────                    ──────────────────           ─\n",
              "⎢                          2                                     2            \n",
              "⎢         ⎛ x₁    x₂    x₃⎞                     ⎛ x₁    x₂    x₃⎞            ℯ\n",
              "⎣         ⎝ℯ   + ℯ   + ℯ  ⎠                     ⎝ℯ   + ℯ   + ℯ  ⎠             \n",
              "\n",
              "              x₁  x₃               ⎤\n",
              "            -ℯ  ⋅ℯ                 ⎥\n",
              "        ──────────────────         ⎥\n",
              "                         2         ⎥\n",
              "        ⎛ x₁    x₂    x₃⎞          ⎥\n",
              "        ⎝ℯ   + ℯ   + ℯ  ⎠          ⎥\n",
              "                                   ⎥\n",
              "              x₂  x₃               ⎥\n",
              "            -ℯ  ⋅ℯ                 ⎥\n",
              "        ──────────────────         ⎥\n",
              "                         2         ⎥\n",
              "        ⎛ x₁    x₂    x₃⎞          ⎥\n",
              "        ⎝ℯ   + ℯ   + ℯ  ⎠          ⎥\n",
              "                                   ⎥\n",
              "      x₃                2⋅x₃       ⎥\n",
              "     ℯ                 ℯ           ⎥\n",
              "────────────── - ──────────────────⎥\n",
              "x₁    x₂    x₃                    2⎥\n",
              "   + ℯ   + ℯ     ⎛ x₁    x₂    x₃⎞ ⎥\n",
              "                 ⎝ℯ   + ℯ   + ℯ  ⎠ ⎦"
            ]
          },
          "metadata": {
            "tags": []
          },
          "execution_count": 7
        }
      ]
    },
    {
      "metadata": {
        "id": "f9WtZ_r0kNyF",
        "colab_type": "code",
        "colab": {}
      },
      "cell_type": "code",
      "source": [
        "import numpy as np"
      ],
      "execution_count": 0,
      "outputs": []
    },
    {
      "metadata": {
        "id": "TY2-1TQqCDKO",
        "colab_type": "text"
      },
      "cell_type": "markdown",
      "source": [
        "# Backpropagation example"
      ]
    },
    {
      "metadata": {
        "id": "1VT4cb6Y-a_m",
        "colab_type": "text"
      },
      "cell_type": "markdown",
      "source": [
        "# Set up our input and targets"
      ]
    },
    {
      "metadata": {
        "id": "RCrReQfKlBZ4",
        "colab_type": "code",
        "outputId": "614921e7-a19b-4525-f33d-ca02579660d0",
        "colab": {
          "base_uri": "https://localhost:8080/",
          "height": 104
        }
      },
      "cell_type": "code",
      "source": [
        "x = np.float32([[0.2, -0.3]]).T\n",
        "y = np.float32([[0.0, 0.0, 1]]).T\n",
        "print(x)\n",
        "print(y)"
      ],
      "execution_count": 9,
      "outputs": [
        {
          "output_type": "stream",
          "text": [
            "[[ 0.2]\n",
            " [-0.3]]\n",
            "[[0.]\n",
            " [0.]\n",
            " [1.]]\n"
          ],
          "name": "stdout"
        }
      ]
    },
    {
      "metadata": {
        "id": "Na8aF4is-ivT",
        "colab_type": "text"
      },
      "cell_type": "markdown",
      "source": [
        "# Set up weights/biases of first layer"
      ]
    },
    {
      "metadata": {
        "id": "qr72Oqm0lFLI",
        "colab_type": "code",
        "outputId": "a2e3566d-5575-4107-d27f-ec206c02db1e",
        "colab": {
          "base_uri": "https://localhost:8080/",
          "height": 121
        }
      },
      "cell_type": "code",
      "source": [
        "W_1 = np.float32([[1, 0.2], [-1, 3.0], [0.5, 0.5]])\n",
        "b_1 = np.float32([[0.1, 0.2, 0]]).T\n",
        "print(W_1)\n",
        "print(b_1)"
      ],
      "execution_count": 10,
      "outputs": [
        {
          "output_type": "stream",
          "text": [
            "[[ 1.   0.2]\n",
            " [-1.   3. ]\n",
            " [ 0.5  0.5]]\n",
            "[[0.1]\n",
            " [0.2]\n",
            " [0. ]]\n"
          ],
          "name": "stdout"
        }
      ]
    },
    {
      "metadata": {
        "id": "jZNprnzG-mQx",
        "colab_type": "text"
      },
      "cell_type": "markdown",
      "source": [
        "# Set up weights/biases of second layer\n"
      ]
    },
    {
      "metadata": {
        "id": "qPRIZn7NlVgs",
        "colab_type": "code",
        "outputId": "1c2648bb-48bb-4e00-ac67-977402e8e015",
        "colab": {
          "base_uri": "https://localhost:8080/",
          "height": 121
        }
      },
      "cell_type": "code",
      "source": [
        "W_2 = np.float32([[0.1, 0.2, 0.3], [0.4, 0.5, 0.6], [0.2, -0.2, 0.1]])\n",
        "b_2 = np.float32([[0, 0.5, 0]]).T\n",
        "print(W_2)\n",
        "print(b_2)"
      ],
      "execution_count": 11,
      "outputs": [
        {
          "output_type": "stream",
          "text": [
            "[[ 0.1  0.2  0.3]\n",
            " [ 0.4  0.5  0.6]\n",
            " [ 0.2 -0.2  0.1]]\n",
            "[[0. ]\n",
            " [0.5]\n",
            " [0. ]]\n"
          ],
          "name": "stdout"
        }
      ]
    },
    {
      "metadata": {
        "id": "euHU1fz8-xSP",
        "colab_type": "text"
      },
      "cell_type": "markdown",
      "source": [
        "# Declare functions for computing sigmoid, softmax, and cross-entropy loss"
      ]
    },
    {
      "metadata": {
        "id": "rmQwNk9ZlgHp",
        "colab_type": "code",
        "colab": {}
      },
      "cell_type": "code",
      "source": [
        "\n",
        "def sigmoid(x):\n",
        "  return 1/(1 + np.exp(-x))\n",
        "\n",
        "def softmax(x):\n",
        "  e_x = np.exp(x)\n",
        "  denom = np.sum(e_x)\n",
        "  return e_x / denom\n",
        "\n",
        "def xent(y, y_hat):\n",
        "  return -np.sum(y * np.log(y_hat))\n",
        "  "
      ],
      "execution_count": 0,
      "outputs": []
    },
    {
      "metadata": {
        "id": "-pebOFCPlg0y",
        "colab_type": "text"
      },
      "cell_type": "markdown",
      "source": [
        "# Forward Pass"
      ]
    },
    {
      "metadata": {
        "id": "BO2BmU3z-2Pl",
        "colab_type": "text"
      },
      "cell_type": "markdown",
      "source": [
        "# Compute first layer output"
      ]
    },
    {
      "metadata": {
        "id": "sFsxJENilh6Z",
        "colab_type": "code",
        "outputId": "61510bab-93bd-4504-c480-cc3d0e157e20",
        "colab": {
          "base_uri": "https://localhost:8080/",
          "height": 121
        }
      },
      "cell_type": "code",
      "source": [
        "net_1 = np.dot(W_1, x) + b_1\n",
        "print(net_1)\n",
        "z_1 = sigmoid(net_1)\n",
        "print(z_1)"
      ],
      "execution_count": 13,
      "outputs": [
        {
          "output_type": "stream",
          "text": [
            "[[ 0.24000001]\n",
            " [-0.90000004]\n",
            " [-0.05      ]]\n",
            "[[0.55971366]\n",
            " [0.2890505 ]\n",
            " [0.48750263]]\n"
          ],
          "name": "stdout"
        }
      ]
    },
    {
      "metadata": {
        "id": "vjIKuXIrlmsZ",
        "colab_type": "code",
        "colab": {}
      },
      "cell_type": "code",
      "source": [
        ""
      ],
      "execution_count": 0,
      "outputs": []
    },
    {
      "metadata": {
        "id": "2PmPPLj1-7ha",
        "colab_type": "text"
      },
      "cell_type": "markdown",
      "source": [
        "# Compute second layer output"
      ]
    },
    {
      "metadata": {
        "id": "g80HBJxAl4y3",
        "colab_type": "code",
        "outputId": "dbd37d20-080c-4eb0-d394-c279a994c071",
        "colab": {
          "base_uri": "https://localhost:8080/",
          "height": 121
        }
      },
      "cell_type": "code",
      "source": [
        "net_2 = np.dot(W_2, z_1) + b_2\n",
        "print(net_2)\n",
        "y_hat = softmax(net_2)\n",
        "print(y_hat)"
      ],
      "execution_count": 14,
      "outputs": [
        {
          "output_type": "stream",
          "text": [
            "[[0.26003227]\n",
            " [1.1609123 ]\n",
            " [0.10288289]]\n",
            "[[0.23167749]\n",
            " [0.57033634]\n",
            " [0.19798611]]\n"
          ],
          "name": "stdout"
        }
      ]
    },
    {
      "metadata": {
        "id": "I_zA8YM2_Bgd",
        "colab_type": "text"
      },
      "cell_type": "markdown",
      "source": [
        "# Compute categorical cross-entropy loss"
      ]
    },
    {
      "metadata": {
        "id": "fmJc5zU_mdpl",
        "colab_type": "code",
        "outputId": "69f39340-0c4a-46a1-91f0-834142dfe1f2",
        "colab": {
          "base_uri": "https://localhost:8080/",
          "height": 34
        }
      },
      "cell_type": "code",
      "source": [
        "L = xent(y, y_hat)\n",
        "print(L)"
      ],
      "execution_count": 15,
      "outputs": [
        {
          "output_type": "stream",
          "text": [
            "1.6195585\n"
          ],
          "name": "stdout"
        }
      ]
    },
    {
      "metadata": {
        "id": "YP7gC-CZmal1",
        "colab_type": "text"
      },
      "cell_type": "markdown",
      "source": [
        "# Backward Pass"
      ]
    },
    {
      "metadata": {
        "id": "abLqOtOPma-M",
        "colab_type": "code",
        "outputId": "521cfb60-f0ca-408c-ccda-12c7e01a3fcc",
        "colab": {
          "base_uri": "https://localhost:8080/",
          "height": 69
        }
      },
      "cell_type": "code",
      "source": [
        "\n",
        "# dL_dyhat = np.float32([0, 0, -1/y_hat[2]]) # this is hard-coded, should be based on y\n",
        "dL_dyhat = (-y*(1/y_hat)).T # jacobian of L with respect to y_hat\n",
        "g_1 = dL_dyhat.T * 1\n",
        "print(g_1)"
      ],
      "execution_count": 16,
      "outputs": [
        {
          "output_type": "stream",
          "text": [
            "[[-0.       ]\n",
            " [-0.       ]\n",
            " [-5.0508595]]\n"
          ],
          "name": "stdout"
        }
      ]
    },
    {
      "metadata": {
        "id": "9lGNrpNTnAA4",
        "colab_type": "code",
        "outputId": "aaf1891a-8a84-4e10-aff2-d43ae1eb3278",
        "colab": {
          "base_uri": "https://localhost:8080/",
          "height": 69
        }
      },
      "cell_type": "code",
      "source": [
        "# compute Jacobian of softmax with respect to inputs\n",
        "dy_hat_dnet2 = np.diagflat(y_hat) - np.dot(y_hat, y_hat.T)\n",
        "print(dy_hat_dnet2)"
      ],
      "execution_count": 17,
      "outputs": [
        {
          "output_type": "stream",
          "text": [
            "[[ 0.17800303 -0.1321341  -0.04586893]\n",
            " [-0.1321341   0.24505278 -0.11291867]\n",
            " [-0.04586893 -0.11291867  0.15878761]]\n"
          ],
          "name": "stdout"
        }
      ]
    },
    {
      "metadata": {
        "id": "S9ee_IO_nuwQ",
        "colab_type": "code",
        "colab": {
          "base_uri": "https://localhost:8080/",
          "height": 69
        },
        "outputId": "8ea06c86-251b-4464-de0e-e55ab870cd94"
      },
      "cell_type": "code",
      "source": [
        "g_2 = np.dot(dy_hat_dnet2.T, g_1)\n",
        "print(g_2)"
      ],
      "execution_count": 18,
      "outputs": [
        {
          "output_type": "stream",
          "text": [
            "[[ 0.2316775 ]\n",
            " [ 0.57033634]\n",
            " [-0.8020139 ]]\n"
          ],
          "name": "stdout"
        }
      ]
    },
    {
      "metadata": {
        "id": "l088y_rHs-MB",
        "colab_type": "code",
        "outputId": "6c71449e-97df-45e9-915f-319466facfb3",
        "colab": {
          "base_uri": "https://localhost:8080/",
          "height": 69
        }
      },
      "cell_type": "code",
      "source": [
        "dL_b2 = g_2 # backpropagation through addition is just the identity function\n",
        "print(dL_b2)"
      ],
      "execution_count": 19,
      "outputs": [
        {
          "output_type": "stream",
          "text": [
            "[[ 0.2316775 ]\n",
            " [ 0.57033634]\n",
            " [-0.8020139 ]]\n"
          ],
          "name": "stdout"
        }
      ]
    },
    {
      "metadata": {
        "id": "6HA8yFcrtgqt",
        "colab_type": "code",
        "outputId": "4bdb43d9-2d8a-4bde-8d75-0ec9f418033e",
        "colab": {
          "base_uri": "https://localhost:8080/",
          "height": 69
        }
      },
      "cell_type": "code",
      "source": [
        "dL_W2 = g_2 * z_1.T # backpropagation through matrix-vector product, wrt W2 using jacobian-vector product trick\n",
        "dL_W2"
      ],
      "execution_count": 20,
      "outputs": [
        {
          "output_type": "execute_result",
          "data": {
            "text/plain": [
              "array([[ 0.12967306,  0.0669665 ,  0.1129434 ],\n",
              "       [ 0.31922504,  0.164856  ,  0.27804047],\n",
              "       [-0.44889814, -0.2318225 , -0.39098388]], dtype=float32)"
            ]
          },
          "metadata": {
            "tags": []
          },
          "execution_count": 20
        }
      ]
    },
    {
      "metadata": {
        "id": "6O4_pZA8uIvQ",
        "colab_type": "code",
        "colab": {}
      },
      "cell_type": "code",
      "source": [
        "dL_dz1 = np.dot(W_2.T, g_2)  # backpropagation through matrix-vector product, wrt input z_1 using jacobian-vector product trick"
      ],
      "execution_count": 0,
      "outputs": []
    },
    {
      "metadata": {
        "id": "AofYGsA6uWAw",
        "colab_type": "code",
        "colab": {}
      },
      "cell_type": "code",
      "source": [
        "g_3 = dL_dnet1 = z_1 * (1 - z_1) * g_2 # backpropagation through sigmoid, using jacobian-vector product trick for elementwise functions"
      ],
      "execution_count": 0,
      "outputs": []
    },
    {
      "metadata": {
        "id": "MJpkst10uwDS",
        "colab_type": "code",
        "colab": {}
      },
      "cell_type": "code",
      "source": [
        "dL_db1 = g_3 # backpropagation through addition is just the identity function"
      ],
      "execution_count": 0,
      "outputs": []
    },
    {
      "metadata": {
        "id": "BEYmZfTIvk33",
        "colab_type": "code",
        "outputId": "3e972953-c4d2-4d9d-b1ed-ad4713c78701",
        "colab": {
          "base_uri": "https://localhost:8080/",
          "height": 104
        }
      },
      "cell_type": "code",
      "source": [
        "print(g_3)\n",
        "print(x)"
      ],
      "execution_count": 29,
      "outputs": [
        {
          "output_type": "stream",
          "text": [
            "[[ 0.05709328]\n",
            " [ 0.1172043 ]\n",
            " [-0.20037821]]\n",
            "[[ 0.2]\n",
            " [-0.3]]\n"
          ],
          "name": "stdout"
        }
      ]
    },
    {
      "metadata": {
        "id": "rROEDlXXvWfG",
        "colab_type": "code",
        "outputId": "9782d0b3-27ca-40d3-ea58-718ede1e3140",
        "colab": {
          "base_uri": "https://localhost:8080/",
          "height": 69
        }
      },
      "cell_type": "code",
      "source": [
        "dL_W1 = np.dot(g_3, x.T)  # backpropagation through matrix-vector product, wrt input W_1 using jacobian-vector product trick\n",
        "print(dL_W1)"
      ],
      "execution_count": 30,
      "outputs": [
        {
          "output_type": "stream",
          "text": [
            "[[ 0.01141866 -0.01712798]\n",
            " [ 0.02344086 -0.03516129]\n",
            " [-0.04007564  0.06011346]]\n"
          ],
          "name": "stdout"
        }
      ]
    },
    {
      "metadata": {
        "id": "gGgWsz6EA7hD",
        "colab_type": "code",
        "colab": {}
      },
      "cell_type": "code",
      "source": [
        "alpha = 1.0"
      ],
      "execution_count": 0,
      "outputs": []
    },
    {
      "metadata": {
        "id": "X8tgNr0bBGLX",
        "colab_type": "text"
      },
      "cell_type": "markdown",
      "source": [
        "# Perform gradient descent update"
      ]
    },
    {
      "metadata": {
        "id": "mRRdlIGlv5nI",
        "colab_type": "code",
        "colab": {}
      },
      "cell_type": "code",
      "source": [
        "W_1new = W_1 - alpha*dL_W1\n",
        "b_1new = b_1 - alpha*dL_db1\n",
        "W_2new = W_2 - alpha*dL_W2\n",
        "b_2new = b_2 - alpha*dL_b2\n"
      ],
      "execution_count": 0,
      "outputs": []
    },
    {
      "metadata": {
        "id": "puzSAsZNwneD",
        "colab_type": "code",
        "outputId": "d1f5547c-8945-4c48-c53d-e6d73072dbfe",
        "colab": {
          "base_uri": "https://localhost:8080/",
          "height": 121
        }
      },
      "cell_type": "code",
      "source": [
        "print('old output', y_hat)\n",
        "new_output = softmax(np.dot(W_2new, sigmoid(np.dot(W_1new, x) + b_1new) + b_2new))\n",
        "print('new output', new_output)"
      ],
      "execution_count": 33,
      "outputs": [
        {
          "output_type": "stream",
          "text": [
            "old output [[0.23167749]\n",
            " [0.57033634]\n",
            " [0.19798611]]\n",
            "new output [[0.24301268]\n",
            " [0.31357023]\n",
            " [0.4434171 ]]\n"
          ],
          "name": "stdout"
        }
      ]
    },
    {
      "metadata": {
        "id": "FHzE8wChBUQr",
        "colab_type": "code",
        "colab": {}
      },
      "cell_type": "code",
      "source": [
        "# We can see the weights were updated to make the target class (class 3) increase"
      ],
      "execution_count": 0,
      "outputs": []
    },
    {
      "metadata": {
        "id": "Iy9362bhEKMr",
        "colab_type": "text"
      },
      "cell_type": "markdown",
      "source": [
        "# Deriving Jacobian Vector Product for Matrix-Vector product"
      ]
    },
    {
      "metadata": {
        "id": "AMO-l4l_oC4B",
        "colab_type": "code",
        "outputId": "82446a1e-415a-4be2-f506-0ba82e920f71",
        "colab": {
          "base_uri": "https://localhost:8080/",
          "height": 114
        }
      },
      "cell_type": "code",
      "source": [
        "# Weight matrix\n",
        "w_syms = MatrixSymbol('W', 3,3)\n",
        "W = Matrix(w_syms)\n",
        "W"
      ],
      "execution_count": 35,
      "outputs": [
        {
          "output_type": "display_data",
          "data": {
            "text/html": [
              "<script src='https://cdnjs.cloudflare.com/ajax/libs/mathjax/2.7.3/latest.js?config=default'></script>"
            ],
            "text/plain": [
              "<IPython.core.display.HTML object>"
            ]
          },
          "metadata": {
            "tags": []
          }
        },
        {
          "output_type": "execute_result",
          "data": {
            "text/latex": "$$\\left[\\begin{array}{ccc}W_{0, 0} & W_{0, 1} & W_{0, 2}\\\\W_{1, 0} & W_{1, 1} & W_{1, 2}\\\\W_{2, 0} & W_{2, 1} & W_{2, 2}\\end{array}\\right]$$",
            "text/plain": [
              "⎡W₀₀  W₀₁  W₀₂⎤\n",
              "⎢             ⎥\n",
              "⎢W₁₀  W₁₁  W₁₂⎥\n",
              "⎢             ⎥\n",
              "⎣W₂₀  W₂₁  W₂₂⎦"
            ]
          },
          "metadata": {
            "tags": []
          },
          "execution_count": 35
        }
      ]
    },
    {
      "metadata": {
        "id": "_ozJkh9ir3W9",
        "colab_type": "code",
        "outputId": "f5ba68cc-876e-4793-95bb-cc86199c9442",
        "colab": {
          "base_uri": "https://localhost:8080/",
          "height": 114
        }
      },
      "cell_type": "code",
      "source": [
        "# input\n",
        "x_syms = MatrixSymbol('x', 3,1)\n",
        "x = Matrix(x_syms)\n",
        "x"
      ],
      "execution_count": 36,
      "outputs": [
        {
          "output_type": "display_data",
          "data": {
            "text/html": [
              "<script src='https://cdnjs.cloudflare.com/ajax/libs/mathjax/2.7.3/latest.js?config=default'></script>"
            ],
            "text/plain": [
              "<IPython.core.display.HTML object>"
            ]
          },
          "metadata": {
            "tags": []
          }
        },
        {
          "output_type": "execute_result",
          "data": {
            "text/latex": "$$\\left[\\begin{array}{c}x_{0, 0}\\\\x_{1, 0}\\\\x_{2, 0}\\end{array}\\right]$$",
            "text/plain": [
              "⎡x₀₀⎤\n",
              "⎢   ⎥\n",
              "⎢x₁₀⎥\n",
              "⎢   ⎥\n",
              "⎣x₂₀⎦"
            ]
          },
          "metadata": {
            "tags": []
          },
          "execution_count": 36
        }
      ]
    },
    {
      "metadata": {
        "id": "V8sWaWv0sbsf",
        "colab_type": "code",
        "outputId": "bc77676c-382b-47eb-bde2-205e372f5e7e",
        "colab": {
          "base_uri": "https://localhost:8080/",
          "height": 114
        }
      },
      "cell_type": "code",
      "source": [
        "# gradient to back-propagate\n",
        "g_syms = MatrixSymbol('g', 3,1)\n",
        "g = Matrix(g_syms)\n",
        "g"
      ],
      "execution_count": 37,
      "outputs": [
        {
          "output_type": "display_data",
          "data": {
            "text/html": [
              "<script src='https://cdnjs.cloudflare.com/ajax/libs/mathjax/2.7.3/latest.js?config=default'></script>"
            ],
            "text/plain": [
              "<IPython.core.display.HTML object>"
            ]
          },
          "metadata": {
            "tags": []
          }
        },
        {
          "output_type": "execute_result",
          "data": {
            "text/latex": "$$\\left[\\begin{array}{c}g_{0, 0}\\\\g_{1, 0}\\\\g_{2, 0}\\end{array}\\right]$$",
            "text/plain": [
              "⎡g₀₀⎤\n",
              "⎢   ⎥\n",
              "⎢g₁₀⎥\n",
              "⎢   ⎥\n",
              "⎣g₂₀⎦"
            ]
          },
          "metadata": {
            "tags": []
          },
          "execution_count": 37
        }
      ]
    },
    {
      "metadata": {
        "id": "Fl--Xf8XsCVd",
        "colab_type": "code",
        "outputId": "6b83a97b-6a94-4fa6-e60d-d4c3de235d16",
        "colab": {
          "base_uri": "https://localhost:8080/",
          "height": 265
        }
      },
      "cell_type": "code",
      "source": [
        "# Jacobian-vector product with respect to W\n",
        "# notice the annoying shape\n",
        "J = (W*x).jacobian(W.reshape(9, 1)).T * g\n",
        "J"
      ],
      "execution_count": 38,
      "outputs": [
        {
          "output_type": "display_data",
          "data": {
            "text/html": [
              "<script src='https://cdnjs.cloudflare.com/ajax/libs/mathjax/2.7.3/latest.js?config=default'></script>"
            ],
            "text/plain": [
              "<IPython.core.display.HTML object>"
            ]
          },
          "metadata": {
            "tags": []
          }
        },
        {
          "output_type": "execute_result",
          "data": {
            "text/latex": "$$\\left[\\begin{array}{c}g_{0, 0} x_{0, 0}\\\\g_{0, 0} x_{1, 0}\\\\g_{0, 0} x_{2, 0}\\\\g_{1, 0} x_{0, 0}\\\\g_{1, 0} x_{1, 0}\\\\g_{1, 0} x_{2, 0}\\\\g_{2, 0} x_{0, 0}\\\\g_{2, 0} x_{1, 0}\\\\g_{2, 0} x_{2, 0}\\end{array}\\right]$$",
            "text/plain": [
              "⎡g₀₀⋅x₀₀⎤\n",
              "⎢       ⎥\n",
              "⎢g₀₀⋅x₁₀⎥\n",
              "⎢       ⎥\n",
              "⎢g₀₀⋅x₂₀⎥\n",
              "⎢       ⎥\n",
              "⎢g₁₀⋅x₀₀⎥\n",
              "⎢       ⎥\n",
              "⎢g₁₀⋅x₁₀⎥\n",
              "⎢       ⎥\n",
              "⎢g₁₀⋅x₂₀⎥\n",
              "⎢       ⎥\n",
              "⎢g₂₀⋅x₀₀⎥\n",
              "⎢       ⎥\n",
              "⎢g₂₀⋅x₁₀⎥\n",
              "⎢       ⎥\n",
              "⎣g₂₀⋅x₂₀⎦"
            ]
          },
          "metadata": {
            "tags": []
          },
          "execution_count": 38
        }
      ]
    },
    {
      "metadata": {
        "id": "PDSAUUMesZ-v",
        "colab_type": "code",
        "outputId": "0ca9fef1-000b-4097-866e-a2afed58f615",
        "colab": {
          "base_uri": "https://localhost:8080/",
          "height": 114
        }
      },
      "cell_type": "code",
      "source": [
        "# We would have to reshape it to this\n",
        "J.reshape(3,3)"
      ],
      "execution_count": 39,
      "outputs": [
        {
          "output_type": "display_data",
          "data": {
            "text/html": [
              "<script src='https://cdnjs.cloudflare.com/ajax/libs/mathjax/2.7.3/latest.js?config=default'></script>"
            ],
            "text/plain": [
              "<IPython.core.display.HTML object>"
            ]
          },
          "metadata": {
            "tags": []
          }
        },
        {
          "output_type": "execute_result",
          "data": {
            "text/latex": "$$\\left[\\begin{matrix}g_{0, 0} x_{0, 0} & g_{0, 0} x_{1, 0} & g_{0, 0} x_{2, 0}\\\\g_{1, 0} x_{0, 0} & g_{1, 0} x_{1, 0} & g_{1, 0} x_{2, 0}\\\\g_{2, 0} x_{0, 0} & g_{2, 0} x_{1, 0} & g_{2, 0} x_{2, 0}\\end{matrix}\\right]$$",
            "text/plain": [
              "⎡g₀₀⋅x₀₀  g₀₀⋅x₁₀  g₀₀⋅x₂₀⎤\n",
              "⎢                         ⎥\n",
              "⎢g₁₀⋅x₀₀  g₁₀⋅x₁₀  g₁₀⋅x₂₀⎥\n",
              "⎢                         ⎥\n",
              "⎣g₂₀⋅x₀₀  g₂₀⋅x₁₀  g₂₀⋅x₂₀⎦"
            ]
          },
          "metadata": {
            "tags": []
          },
          "execution_count": 39
        }
      ]
    },
    {
      "metadata": {
        "id": "qx-QiBp4Cl8S",
        "colab_type": "text"
      },
      "cell_type": "markdown",
      "source": [
        "# Or we can do it like this"
      ]
    },
    {
      "metadata": {
        "id": "2nG2TBSZsEUu",
        "colab_type": "code",
        "outputId": "cc8ad535-9452-42f2-9224-7212b74376cc",
        "colab": {
          "base_uri": "https://localhost:8080/",
          "height": 114
        }
      },
      "cell_type": "code",
      "source": [
        "g * x.T"
      ],
      "execution_count": 40,
      "outputs": [
        {
          "output_type": "display_data",
          "data": {
            "text/html": [
              "<script src='https://cdnjs.cloudflare.com/ajax/libs/mathjax/2.7.3/latest.js?config=default'></script>"
            ],
            "text/plain": [
              "<IPython.core.display.HTML object>"
            ]
          },
          "metadata": {
            "tags": []
          }
        },
        {
          "output_type": "execute_result",
          "data": {
            "text/latex": "$$\\left[\\begin{matrix}g_{0, 0} x_{0, 0} & g_{0, 0} x_{1, 0} & g_{0, 0} x_{2, 0}\\\\g_{1, 0} x_{0, 0} & g_{1, 0} x_{1, 0} & g_{1, 0} x_{2, 0}\\\\g_{2, 0} x_{0, 0} & g_{2, 0} x_{1, 0} & g_{2, 0} x_{2, 0}\\end{matrix}\\right]$$",
            "text/plain": [
              "⎡g₀₀⋅x₀₀  g₀₀⋅x₁₀  g₀₀⋅x₂₀⎤\n",
              "⎢                         ⎥\n",
              "⎢g₁₀⋅x₀₀  g₁₀⋅x₁₀  g₁₀⋅x₂₀⎥\n",
              "⎢                         ⎥\n",
              "⎣g₂₀⋅x₀₀  g₂₀⋅x₁₀  g₂₀⋅x₂₀⎦"
            ]
          },
          "metadata": {
            "tags": []
          },
          "execution_count": 40
        }
      ]
    }
  ]
}